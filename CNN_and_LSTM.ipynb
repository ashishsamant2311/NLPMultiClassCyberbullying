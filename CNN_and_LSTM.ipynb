{
  "cells": [
    {
      "cell_type": "code",
      "execution_count": 1,
      "metadata": {
        "colab": {
          "base_uri": "https://localhost:8080/",
          "height": 1000
        },
        "id": "kqHqAmLWNsUs",
        "outputId": "c22451d8-2f3a-4b72-f5e2-136f9fed86e7"
      },
      "outputs": [
        {
          "output_type": "stream",
          "name": "stdout",
          "text": [
            "Looking in indexes: https://pypi.org/simple, https://us-python.pkg.dev/colab-wheels/public/simple/\n",
            "Collecting numpy==1.19.5\n",
            "  Downloading numpy-1.19.5-cp37-cp37m-manylinux2010_x86_64.whl (14.8 MB)\n",
            "\u001b[K     |████████████████████████████████| 14.8 MB 4.2 MB/s \n",
            "\u001b[?25hInstalling collected packages: numpy\n",
            "  Attempting uninstall: numpy\n",
            "    Found existing installation: numpy 1.21.6\n",
            "    Uninstalling numpy-1.21.6:\n",
            "      Successfully uninstalled numpy-1.21.6\n",
            "\u001b[31mERROR: pip's dependency resolver does not currently take into account all the packages that are installed. This behaviour is the source of the following dependency conflicts.\n",
            "xarray-einstats 0.2.2 requires numpy>=1.21, but you have numpy 1.19.5 which is incompatible.\n",
            "tensorflow 2.8.2+zzzcolab20220527125636 requires numpy>=1.20, but you have numpy 1.19.5 which is incompatible.\n",
            "datascience 0.10.6 requires folium==0.2.1, but you have folium 0.8.3 which is incompatible.\n",
            "albumentations 0.1.12 requires imgaug<0.2.7,>=0.2.5, but you have imgaug 0.2.9 which is incompatible.\u001b[0m\n",
            "Successfully installed numpy-1.19.5\n"
          ]
        },
        {
          "output_type": "display_data",
          "data": {
            "application/vnd.colab-display-data+json": {
              "pip_warning": {
                "packages": [
                  "numpy"
                ]
              }
            }
          },
          "metadata": {}
        },
        {
          "output_type": "stream",
          "name": "stdout",
          "text": [
            "Looking in indexes: https://pypi.org/simple, https://us-python.pkg.dev/colab-wheels/public/simple/\n",
            "Collecting wget==3.2\n",
            "  Downloading wget-3.2.zip (10 kB)\n",
            "Building wheels for collected packages: wget\n",
            "  Building wheel for wget (setup.py) ... \u001b[?25l\u001b[?25hdone\n",
            "  Created wheel for wget: filename=wget-3.2-py3-none-any.whl size=9675 sha256=821c49b3c5714865a37b98fe5568c34ade9507c9cd821d6c28467a08bac75e62\n",
            "  Stored in directory: /root/.cache/pip/wheels/a1/b6/7c/0e63e34eb06634181c63adacca38b79ff8f35c37e3c13e3c02\n",
            "Successfully built wget\n",
            "Installing collected packages: wget\n",
            "Successfully installed wget-3.2\n",
            "Looking in indexes: https://pypi.org/simple, https://us-python.pkg.dev/colab-wheels/public/simple/\n",
            "Collecting tensorflow==1.14.0\n",
            "  Downloading tensorflow-1.14.0-cp37-cp37m-manylinux1_x86_64.whl (109.3 MB)\n",
            "\u001b[K     |████████████████████████████████| 109.3 MB 1.1 MB/s \n",
            "\u001b[?25hRequirement already satisfied: absl-py>=0.7.0 in /usr/local/lib/python3.7/dist-packages (from tensorflow==1.14.0) (1.1.0)\n",
            "Requirement already satisfied: six>=1.10.0 in /usr/local/lib/python3.7/dist-packages (from tensorflow==1.14.0) (1.15.0)\n",
            "Collecting tensorboard<1.15.0,>=1.14.0\n",
            "  Downloading tensorboard-1.14.0-py3-none-any.whl (3.1 MB)\n",
            "\u001b[K     |████████████████████████████████| 3.1 MB 43.7 MB/s \n",
            "\u001b[?25hRequirement already satisfied: grpcio>=1.8.6 in /usr/local/lib/python3.7/dist-packages (from tensorflow==1.14.0) (1.46.3)\n",
            "Requirement already satisfied: wrapt>=1.11.1 in /usr/local/lib/python3.7/dist-packages (from tensorflow==1.14.0) (1.14.1)\n",
            "Requirement already satisfied: keras-preprocessing>=1.0.5 in /usr/local/lib/python3.7/dist-packages (from tensorflow==1.14.0) (1.1.2)\n",
            "Requirement already satisfied: termcolor>=1.1.0 in /usr/local/lib/python3.7/dist-packages (from tensorflow==1.14.0) (1.1.0)\n",
            "Requirement already satisfied: gast>=0.2.0 in /usr/local/lib/python3.7/dist-packages (from tensorflow==1.14.0) (0.5.3)\n",
            "Collecting tensorflow-estimator<1.15.0rc0,>=1.14.0rc0\n",
            "  Downloading tensorflow_estimator-1.14.0-py2.py3-none-any.whl (488 kB)\n",
            "\u001b[K     |████████████████████████████████| 488 kB 55.0 MB/s \n",
            "\u001b[?25hRequirement already satisfied: astor>=0.6.0 in /usr/local/lib/python3.7/dist-packages (from tensorflow==1.14.0) (0.8.1)\n",
            "Requirement already satisfied: numpy<2.0,>=1.14.5 in /usr/local/lib/python3.7/dist-packages (from tensorflow==1.14.0) (1.19.5)\n",
            "Requirement already satisfied: google-pasta>=0.1.6 in /usr/local/lib/python3.7/dist-packages (from tensorflow==1.14.0) (0.2.0)\n",
            "Requirement already satisfied: protobuf>=3.6.1 in /usr/local/lib/python3.7/dist-packages (from tensorflow==1.14.0) (3.17.3)\n",
            "Requirement already satisfied: wheel>=0.26 in /usr/local/lib/python3.7/dist-packages (from tensorflow==1.14.0) (0.37.1)\n",
            "Collecting keras-applications>=1.0.6\n",
            "  Downloading Keras_Applications-1.0.8-py3-none-any.whl (50 kB)\n",
            "\u001b[K     |████████████████████████████████| 50 kB 7.5 MB/s \n",
            "\u001b[?25hRequirement already satisfied: h5py in /usr/local/lib/python3.7/dist-packages (from keras-applications>=1.0.6->tensorflow==1.14.0) (3.1.0)\n",
            "Requirement already satisfied: markdown>=2.6.8 in /usr/local/lib/python3.7/dist-packages (from tensorboard<1.15.0,>=1.14.0->tensorflow==1.14.0) (3.3.7)\n",
            "Requirement already satisfied: werkzeug>=0.11.15 in /usr/local/lib/python3.7/dist-packages (from tensorboard<1.15.0,>=1.14.0->tensorflow==1.14.0) (1.0.1)\n",
            "Requirement already satisfied: setuptools>=41.0.0 in /usr/local/lib/python3.7/dist-packages (from tensorboard<1.15.0,>=1.14.0->tensorflow==1.14.0) (57.4.0)\n",
            "Requirement already satisfied: importlib-metadata>=4.4 in /usr/local/lib/python3.7/dist-packages (from markdown>=2.6.8->tensorboard<1.15.0,>=1.14.0->tensorflow==1.14.0) (4.11.4)\n",
            "Requirement already satisfied: typing-extensions>=3.6.4 in /usr/local/lib/python3.7/dist-packages (from importlib-metadata>=4.4->markdown>=2.6.8->tensorboard<1.15.0,>=1.14.0->tensorflow==1.14.0) (4.1.1)\n",
            "Requirement already satisfied: zipp>=0.5 in /usr/local/lib/python3.7/dist-packages (from importlib-metadata>=4.4->markdown>=2.6.8->tensorboard<1.15.0,>=1.14.0->tensorflow==1.14.0) (3.8.0)\n",
            "Requirement already satisfied: cached-property in /usr/local/lib/python3.7/dist-packages (from h5py->keras-applications>=1.0.6->tensorflow==1.14.0) (1.5.2)\n",
            "Installing collected packages: tensorflow-estimator, tensorboard, keras-applications, tensorflow\n",
            "  Attempting uninstall: tensorflow-estimator\n",
            "    Found existing installation: tensorflow-estimator 2.8.0\n",
            "    Uninstalling tensorflow-estimator-2.8.0:\n",
            "      Successfully uninstalled tensorflow-estimator-2.8.0\n",
            "  Attempting uninstall: tensorboard\n",
            "    Found existing installation: tensorboard 2.8.0\n",
            "    Uninstalling tensorboard-2.8.0:\n",
            "      Successfully uninstalled tensorboard-2.8.0\n",
            "  Attempting uninstall: tensorflow\n",
            "    Found existing installation: tensorflow 2.8.2+zzzcolab20220527125636\n",
            "    Uninstalling tensorflow-2.8.2+zzzcolab20220527125636:\n",
            "      Successfully uninstalled tensorflow-2.8.2+zzzcolab20220527125636\n",
            "\u001b[31mERROR: pip's dependency resolver does not currently take into account all the packages that are installed. This behaviour is the source of the following dependency conflicts.\n",
            "kapre 0.3.7 requires tensorflow>=2.0.0, but you have tensorflow 1.14.0 which is incompatible.\u001b[0m\n",
            "Successfully installed keras-applications-1.0.8 tensorboard-1.14.0 tensorflow-1.14.0 tensorflow-estimator-1.14.0\n"
          ]
        }
      ],
      "source": [
        "# To install only the requirements of this notebook, uncomment the lines below and run this cell\n",
        "\n",
        "# ===========================\n",
        "\n",
        "!pip install numpy==1.19.5\n",
        "!pip install wget==3.2\n",
        "!pip install tensorflow==1.14.0\n",
        "\n",
        "# ==========================="
      ]
    },
    {
      "cell_type": "code",
      "execution_count": 2,
      "metadata": {
        "id": "Somr17gCUQ-a"
      },
      "outputs": [],
      "source": [
        "import pandas as pd\n",
        "import numpy as np\n",
        "import seaborn as sns\n",
        "import matplotlib.pyplot as plt\n",
        "import os\n",
        "import sys\n",
        "import numpy as np\n",
        "import tarfile\n",
        "import wget\n",
        "import warnings\n",
        "warnings.filterwarnings(\"ignore\") \n",
        "from zipfile import ZipFile"
      ]
    },
    {
      "cell_type": "code",
      "execution_count": 3,
      "metadata": {
        "colab": {
          "base_uri": "https://localhost:8080/"
        },
        "id": "hrbctrWOUlzo",
        "outputId": "9ad38237-e6d8-461b-d312-085da4a877bd"
      },
      "outputs": [
        {
          "output_type": "stream",
          "name": "stdout",
          "text": [
            "<class 'pandas.core.frame.DataFrame'>\n",
            "RangeIndex: 47692 entries, 0 to 47691\n",
            "Data columns (total 2 columns):\n",
            " #   Column              Non-Null Count  Dtype \n",
            "---  ------              --------------  ----- \n",
            " 0   tweet_text          47692 non-null  object\n",
            " 1   cyberbullying_type  47692 non-null  object\n",
            "dtypes: object(2)\n",
            "memory usage: 745.3+ KB\n"
          ]
        }
      ],
      "source": [
        "df = pd.read_csv('cyberbullying_upd.csv',encoding='ISO-8859-1')\n",
        "df.info()"
      ]
    },
    {
      "cell_type": "code",
      "execution_count": 4,
      "metadata": {
        "colab": {
          "base_uri": "https://localhost:8080/"
        },
        "id": "rPdGEVJ1dIKm",
        "outputId": "718c79dc-7998-4446-87b6-b0d791e4454e"
      },
      "outputs": [
        {
          "output_type": "execute_result",
          "data": {
            "text/plain": [
              "religion               7998\n",
              "age                    7992\n",
              "gender                 7973\n",
              "ethnicity              7961\n",
              "not_cyberbullying      7945\n",
              "other_cyberbullying    7823\n",
              "Name: cyberbullying_type, dtype: int64"
            ]
          },
          "metadata": {},
          "execution_count": 4
        }
      ],
      "source": [
        "df.cyberbullying_type.value_counts()"
      ]
    },
    {
      "cell_type": "code",
      "execution_count": 5,
      "metadata": {
        "colab": {
          "base_uri": "https://localhost:8080/",
          "height": 385
        },
        "id": "OzcQ3-ilfSgX",
        "outputId": "eb8f7ae6-ee8b-46e2-fa62-994c3c0a45a7"
      },
      "outputs": [
        {
          "output_type": "display_data",
          "data": {
            "text/plain": [
              "<Figure size 432x288 with 1 Axes>"
            ],
            "image/png": "[encoded data removed]"
          },
          "metadata": {
            "needs_background": "light"
          }
        }
      ],
      "source": [
        "bull_count=pd.DataFrame(df['cyberbullying_type'].value_counts().sort_values(ascending=False))\n",
        "bull_count.rename(columns={\"cyberbullying_type\":\"count\"},inplace=True)\n",
        "bull_count\n",
        "bull_count['cyberbullying_type']=['religion','age','gender','ethnicity','not_cyberbullying','other_cyberbullying']\n",
        "bull_count.plot.bar(x=\"cyberbullying_type\", y=\"count\", title=\"Count of cyberbullying Types\");"
      ]
    },
    {
      "cell_type": "code",
      "execution_count": 6,
      "metadata": {
        "colab": {
          "base_uri": "https://localhost:8080/"
        },
        "id": "fVoh654Tjrs7",
        "outputId": "de32e0ef-d5af-4901-ebcc-8bc8ba37c541"
      },
      "outputs": [
        {
          "output_type": "stream",
          "name": "stderr",
          "text": [
            "[nltk_data] Downloading package stopwords to /root/nltk_data...\n",
            "[nltk_data]   Unzipping corpora/stopwords.zip.\n",
            "[nltk_data] Downloading package wordnet to /root/nltk_data...\n",
            "[nltk_data]   Unzipping corpora/wordnet.zip.\n",
            "[nltk_data] Downloading package punkt to /root/nltk_data...\n",
            "[nltk_data]   Unzipping tokenizers/punkt.zip.\n",
            "[nltk_data] Downloading package averaged_perceptron_tagger to\n",
            "[nltk_data]     /root/nltk_data...\n",
            "[nltk_data]   Unzipping taggers/averaged_perceptron_tagger.zip.\n"
          ]
        }
      ],
      "source": [
        "import re\n",
        "import nltk\n",
        "nltk.download('stopwords') #used for stopwords removal\n",
        "nltk.download('wordnet') #used for getting synonyms of words\n",
        "nltk.download('punkt') #used for tokenisation of words\n",
        "nltk.download('averaged_perceptron_tagger') #used for tagging words with POS\n",
        "from nltk.corpus import stopwords\n",
        "stop_words = set(stopwords.words(\"english\"))\n",
        "df = df.reset_index(drop=True)\n",
        "REPLACE_BY_SPACE_RE = re.compile('[/(){}\\[\\]\\|@,;]')\n",
        "BAD_SYMBOLS_RE = re.compile('[^0-9a-z #+_]')\n",
        "STOPWORDS = set(stopwords.words('english'))"
      ]
    },
    {
      "cell_type": "code",
      "execution_count": 7,
      "metadata": {
        "id": "8rSRadnYLLDY"
      },
      "outputs": [],
      "source": [
        "df = df.reset_index(drop=True)\n",
        "REPLACE_BY_SPACE_RE = re.compile('[/(){}\\[\\]\\|@,;]')\n",
        "BAD_SYMBOLS_RE = re.compile('[^0-9a-z #+_]')\n",
        "STOPWORDS = set(stopwords.words('english'))\n",
        "\n",
        "def clean_text(text):\n",
        "    \"\"\"\n",
        "        text: a string\n",
        "        \n",
        "        return: modified initial string\n",
        "    \"\"\"\n",
        "    text = text.lower() # lowercase text\n",
        "    text = REPLACE_BY_SPACE_RE.sub(' ', text) # replace REPLACE_BY_SPACE_RE symbols by space in text. substitute the matched string in REPLACE_BY_SPACE_RE with space.\n",
        "    text = BAD_SYMBOLS_RE.sub('', text) # remove symbols which are in BAD_SYMBOLS_RE from text. substitute the matched string in BAD_SYMBOLS_RE with nothing. \n",
        "    text = text.replace('x', '')\n",
        "#    text = re.sub(r'\\W+', '', text)\n",
        "    text = ' '.join(word for word in text.split() if word not in STOPWORDS) # remove stopwors from text\n",
        "    return text\n",
        "df['tweet_text'] = df['tweet_text'].apply(clean_text)\n",
        "df['tweet_text'] = df['tweet_text'].str.replace('\\d+', '')"
      ]
    },
    {
      "cell_type": "code",
      "execution_count": 8,
      "metadata": {
        "id": "2VxtqMO-k9Mk",
        "colab": {
          "base_uri": "https://localhost:8080/"
        },
        "outputId": "103b7061-ba60-4ef1-bf55-b7c2b8abcf75"
      },
      "outputs": [
        {
          "output_type": "stream",
          "name": "stdout",
          "text": [
            "dont care country come long willing assimilate american culture maybe whatever shithole country ted came said acceptable america better call female coworker fucking bitch\n",
            "cyberbullying_type: gender\n"
          ]
        }
      ],
      "source": [
        "def print_plot(index):\n",
        "    example = df[df.index == index][['tweet_text', 'cyberbullying_type']].values[0]\n",
        "    if len(example) > 0:\n",
        "        print(example[0])\n",
        "        print('cyberbullying_type:', example[1])\n",
        "print_plot(10)"
      ]
    },
    {
      "cell_type": "code",
      "execution_count": 9,
      "metadata": {
        "id": "cfFCQGWslLDY",
        "colab": {
          "base_uri": "https://localhost:8080/"
        },
        "outputId": "996cd630-6d8c-48a4-e383-3264717206cb"
      },
      "outputs": [
        {
          "output_type": "stream",
          "name": "stdout",
          "text": [
            "politicalant lithobolos zaibatsunews isis beheads prophet beheaded isis rapes slaves prophet raped\n",
            "cyberbullying_type: religion\n"
          ]
        }
      ],
      "source": [
        "print_plot(100)"
      ]
    },
    {
      "cell_type": "code",
      "execution_count": 8,
      "metadata": {
        "id": "Wz30nDkjmplf"
      },
      "outputs": [],
      "source": [
        "from tensorflow.keras.preprocessing.text import Tokenizer\n",
        "from tensorflow.keras.preprocessing.sequence import pad_sequences\n",
        "from tensorflow.keras.utils import to_categorical\n",
        "from tensorflow.keras.layers import Dense, Input, GlobalMaxPooling1D\n",
        "from tensorflow.keras.layers import Conv1D, MaxPooling1D, Embedding, LSTM, SpatialDropout1D\n",
        "from tensorflow.keras.models import Model, Sequential\n",
        "from tensorflow.keras.initializers import Constant\n",
        "from tensorflow.keras.callbacks import EarlyStopping"
      ]
    },
    {
      "cell_type": "code",
      "execution_count": 9,
      "metadata": {
        "colab": {
          "base_uri": "https://localhost:8080/"
        },
        "id": "xbClITZ-lRpT",
        "outputId": "108868ac-d19e-4fb4-9cc4-920d029bafac"
      },
      "outputs": [
        {
          "output_type": "stream",
          "name": "stdout",
          "text": [
            "Found 61967 unique tokens.\n"
          ]
        }
      ],
      "source": [
        "# The maximum number of words to be used. (most frequent)\n",
        "MAX_NB_WORDS = 50000\n",
        "# Max number of words in each tweets.\n",
        "MAX_SEQUENCE_LENGTH = 250\n",
        "# This is fixed.\n",
        "EMBEDDING_DIM = 100\n",
        "tokenizer = Tokenizer(num_words=MAX_NB_WORDS, filters='!\"#$%&()*+,-./:;<=>?@[\\]^_`{|}~', lower=True)\n",
        "tokenizer.fit_on_texts(df['tweet_text'].values)\n",
        "word_index = tokenizer.word_index\n",
        "print('Found %s unique tokens.' % len(word_index))"
      ]
    },
    {
      "cell_type": "code",
      "execution_count": 10,
      "metadata": {
        "colab": {
          "base_uri": "https://localhost:8080/"
        },
        "id": "73-Oc8thm3qj",
        "outputId": "79c85ca3-0344-4851-b44c-bf81e20b7071"
      },
      "outputs": [
        {
          "output_type": "stream",
          "name": "stdout",
          "text": [
            "Shape of data tensor: (47692, 250)\n"
          ]
        }
      ],
      "source": [
        "X = tokenizer.texts_to_sequences(df['tweet_text'].values)\n",
        "X = pad_sequences(X, maxlen=MAX_SEQUENCE_LENGTH)\n",
        "print('Shape of data tensor:', X.shape)"
      ]
    },
    {
      "cell_type": "code",
      "execution_count": 11,
      "metadata": {
        "colab": {
          "base_uri": "https://localhost:8080/"
        },
        "id": "aSks9Io0nB8E",
        "outputId": "c2e481e9-c02a-4795-8b69-071e611a6296"
      },
      "outputs": [
        {
          "output_type": "stream",
          "name": "stdout",
          "text": [
            "Shape of label tensor: (47692, 6)\n",
            "[7992, 7961, 7973, 7945, 7823, 7998]\n"
          ]
        }
      ],
      "source": [
        "Y = pd.get_dummies(df['cyberbullying_type']).values\n",
        "#Y = pd.get_dummies(df,columns=['category'])\n",
        "print('Shape of label tensor:', Y.shape)\n",
        "print([sum(x) for x in zip(*Y)])"
      ]
    },
    {
      "cell_type": "code",
      "execution_count": 12,
      "metadata": {
        "colab": {
          "base_uri": "https://localhost:8080/"
        },
        "id": "kI4R4EmwnHtp",
        "outputId": "a128e90e-835c-45a7-9973-8d19c5f77465"
      },
      "outputs": [
        {
          "output_type": "stream",
          "name": "stdout",
          "text": [
            "(28615, 250) (28615, 6)\n",
            "(19077, 250) (19077, 6)\n"
          ]
        }
      ],
      "source": [
        "from sklearn.model_selection import train_test_split\n",
        "X_train, X_test, Y_train, Y_test = train_test_split(X,Y, test_size = 0.4, random_state = 42)\n",
        "print(X_train.shape,Y_train.shape)\n",
        "print(X_test.shape,Y_test.shape)"
      ]
    },
    {
      "cell_type": "markdown",
      "metadata": {
        "id": "B3b4qpigMyZ7"
      },
      "source": [
        "**Setting the paths for external dataset glove for pre-trained embedding**"
      ]
    },
    {
      "cell_type": "code",
      "execution_count": 13,
      "metadata": {
        "id": "GlMn2b-xMkWt"
      },
      "outputs": [],
      "source": [
        "%%capture\n",
        "try:\n",
        "    \n",
        "    from google.colab import files\n",
        "    \n",
        "    !wget -P DATAPATH http://nlp.stanford.edu/data/glove.6B.zip\n",
        "    !unzip DATAPATH/glove.6B.zip -d DATAPATH/glove.6B\n",
        "    \n",
        "    !wget -P DATAPATH http://ai.stanford.edu/~amaas/data/sentiment/aclImdb_v1.tar.gz\n",
        "    !tar -xvf DATAPATH/aclImdb_v1.tar.gz -C DATAPATH\n",
        "    \n",
        "    BASE_DIR = 'DATAPATH'\n",
        "    \n",
        "except ModuleNotFoundError:\n",
        "    \n",
        "    if not os.path.exists('Data/glove.6B'):\n",
        "        os.mkdir('Data/glove.6B')\n",
        "        \n",
        "        url='http://nlp.stanford.edu/data/glove.6B.zip'  \n",
        "        wget.download(url,'Data')  \n",
        "  \n",
        "        temp='Data/glove.6B.zip' \n",
        "        file = ZipFile(temp)  \n",
        "        file.extractall('Data/glove.6B') \n",
        "        file.close()\n",
        "        \n",
        "        \n",
        "        \n",
        "    if not os.path.exists('Data/aclImdb'):\n",
        "        \n",
        "        url='http://ai.stanford.edu/~amaas/data/sentiment/aclImdb_v1.tar.gz' \n",
        "        wget.download(url,'Data')\n",
        "        \n",
        "        temp='Data/aclImdb_v1.tar.gz' \n",
        "        tar = tarfile.open(temp, \"r:gz\")\n",
        "        tar.extractall('Data')      \n",
        "        tar.close()\n",
        "    \n",
        "    BASE_DIR = 'Data'"
      ]
    },
    {
      "cell_type": "code",
      "execution_count": 14,
      "metadata": {
        "id": "QcTTUiufMluh"
      },
      "outputs": [],
      "source": [
        "GLOVE_DIR = os.path.join(BASE_DIR, 'glove.6B')\n",
        "TRAIN_DATA_DIR = os.path.join(BASE_DIR, 'aclImdb/train')\n",
        "TEST_DATA_DIR = os.path.join(BASE_DIR, 'aclImdb/test')"
      ]
    },
    {
      "cell_type": "code",
      "execution_count": 15,
      "metadata": {
        "colab": {
          "base_uri": "https://localhost:8080/"
        },
        "id": "2NABS1o1Pamf",
        "outputId": "813d5789-ba9a-4152-97a2-d11723dae94c"
      },
      "outputs": [
        {
          "output_type": "stream",
          "name": "stdout",
          "text": [
            "Preparing embedding matrix.\n",
            "Found 400000 word vectors in Glove embeddings.\n",
            "Preparing of embedding matrix is done\n"
          ]
        }
      ],
      "source": [
        "print('Preparing embedding matrix.')\n",
        "\n",
        "# first, build index mapping words in the embeddings set\n",
        "# to their embedding vector\n",
        "embeddings_index = {}\n",
        "with open(os.path.join(GLOVE_DIR, 'glove.6B.100d.txt'),encoding='utf8') as f:\n",
        "    for line in f:\n",
        "        values = line.split()\n",
        "        word = values[0]\n",
        "        coefs = np.asarray(values[1:], dtype='float32')\n",
        "        embeddings_index[word] = coefs\n",
        "\n",
        "print('Found %s word vectors in Glove embeddings.' % len(embeddings_index))\n",
        "#print(embeddings_index[\"google\"])\n",
        "\n",
        "# prepare embedding matrix - rows are the words from word_index, columns are the embeddings of that word from glove.\n",
        "num_words = min(MAX_NB_WORDS, len(word_index)) + 1\n",
        "embedding_matrix = np.zeros((num_words, EMBEDDING_DIM))\n",
        "for word, i in word_index.items():\n",
        "    if i > MAX_NB_WORDS:\n",
        "        continue\n",
        "    embedding_vector = embeddings_index.get(word)\n",
        "    if embedding_vector is not None:\n",
        "        # words not found in embedding index will be all-zeros.\n",
        "        embedding_matrix[i] = embedding_vector\n",
        "\n",
        "# load these pre-trained word embeddings into an Embedding layer\n",
        "# note that we set trainable = False so as to keep the embeddings fixed\n",
        "embedding_layer = Embedding(num_words,\n",
        "                            EMBEDDING_DIM,\n",
        "                            embeddings_initializer=Constant(embedding_matrix),\n",
        "                            input_length=MAX_SEQUENCE_LENGTH,\n",
        "                            trainable=False)\n",
        "print(\"Preparing of embedding matrix is done\")"
      ]
    },
    {
      "cell_type": "markdown",
      "metadata": {
        "id": "8K9KfvLNON9t"
      },
      "source": [
        "\n",
        "**LSTM With own Embedding**"
      ]
    },
    {
      "cell_type": "code",
      "execution_count": 37,
      "metadata": {
        "colab": {
          "base_uri": "https://localhost:8080/"
        },
        "id": "js4Yh2n2nkvm",
        "outputId": "7b85d05c-ca85-4782-b3b7-fa176cb0ca3a"
      },
      "outputs": [
        {
          "output_type": "stream",
          "name": "stdout",
          "text": [
            "Train on 25753 samples, validate on 2862 samples\n",
            "WARNING:tensorflow:From /usr/local/lib/python3.7/dist-packages/tensorflow/python/ops/math_grad.py:1250: add_dispatch_support.<locals>.wrapper (from tensorflow.python.ops.array_ops) is deprecated and will be removed in a future version.\n",
            "Instructions for updating:\n",
            "Use tf.where in 2.0, which has the same broadcast rule as np.where\n",
            "Epoch 1/5\n",
            "25753/25753 [==============================] - 175s 7ms/sample - loss: 0.8662 - acc: 0.6512 - val_loss: 0.4697 - val_acc: 0.7935\n",
            "Epoch 2/5\n",
            "25753/25753 [==============================] - 165s 6ms/sample - loss: 0.3842 - acc: 0.8380 - val_loss: 0.4415 - val_acc: 0.8197\n",
            "Epoch 3/5\n",
            "25753/25753 [==============================] - 163s 6ms/sample - loss: 0.2638 - acc: 0.8983 - val_loss: 0.4586 - val_acc: 0.8187\n",
            "Epoch 4/5\n",
            "25753/25753 [==============================] - 162s 6ms/sample - loss: 0.1839 - acc: 0.9309 - val_loss: 0.5266 - val_acc: 0.8124\n",
            "Epoch 5/5\n",
            "25753/25753 [==============================] - 163s 6ms/sample - loss: 0.1365 - acc: 0.9467 - val_loss: 0.5994 - val_acc: 0.8120\n"
          ]
        }
      ],
      "source": [
        "model1 = Sequential()\n",
        "model1.add(Embedding(MAX_NB_WORDS, EMBEDDING_DIM, input_length=X.shape[1]))\n",
        "model1.add(SpatialDropout1D(0.2))\n",
        "model1.add(LSTM(100, dropout=0.2, recurrent_dropout=0.2))\n",
        "model1.add(Dense(6, activation='softmax'))\n",
        "model1.compile(loss='categorical_crossentropy', optimizer='adam', metrics=['accuracy'])\n",
        "\n",
        "epochs = 5\n",
        "batch_size = 128\n",
        "\n",
        "history = model1.fit(X_train, Y_train, epochs=epochs, batch_size=batch_size,validation_split=0.1,callbacks=[EarlyStopping(monitor='val_loss', patience=3, min_delta=0.0001)])"
      ]
    },
    {
      "cell_type": "code",
      "execution_count": 39,
      "metadata": {
        "colab": {
          "base_uri": "https://localhost:8080/"
        },
        "id": "MbjXDfKNwBc6",
        "outputId": "690bdc38-bce2-4150-8276-03f57071cbd3"
      },
      "outputs": [
        {
          "output_type": "stream",
          "name": "stdout",
          "text": [
            "19077/19077 [==============================] - 57s 3ms/sample - loss: 0.5558 - acc: 0.8165\n",
            "Test set\n",
            "  Loss: 0.556\n",
            "  Accuracy: 0.816\n"
          ]
        }
      ],
      "source": [
        "accr = model1.evaluate(X_test,Y_test)\n",
        "print('Test set\\n  Loss: {:0.3f}\\n  Accuracy: {:0.3f}'.format(accr[0],accr[1]))"
      ]
    },
    {
      "cell_type": "code",
      "execution_count": 40,
      "metadata": {
        "colab": {
          "base_uri": "https://localhost:8080/",
          "height": 281
        },
        "id": "HIxVirjfwPh8",
        "outputId": "d6341613-1a36-40e9-9a5f-7cb4007bba32"
      },
      "outputs": [
        {
          "output_type": "display_data",
          "data": {
            "text/plain": [
              "<Figure size 432x288 with 1 Axes>"
            ],
            "image/png": "[encoded data removed]"
          },
          "metadata": {
            "needs_background": "light"
          }
        }
      ],
      "source": [
        "plt.title('Loss')\n",
        "plt.plot(history.history['loss'], label='train')\n",
        "plt.plot(history.history['val_loss'], label='validation')\n",
        "plt.legend()\n",
        "plt.show();"
      ]
    },
    {
      "cell_type": "code",
      "execution_count": 41,
      "metadata": {
        "colab": {
          "base_uri": "https://localhost:8080/",
          "height": 281
        },
        "id": "7xh5CflawS-0",
        "outputId": "83316444-d5ca-4a09-efa8-fa0db6119afe"
      },
      "outputs": [
        {
          "output_type": "display_data",
          "data": {
            "text/plain": [
              "<Figure size 432x288 with 1 Axes>"
            ],
            "image/png": "[encoded data removed]"
          },
          "metadata": {
            "needs_background": "light"
          }
        }
      ],
      "source": [
        "plt.title('Accuracy')\n",
        "plt.plot(history.history['acc'], label='train')\n",
        "plt.plot(history.history['val_acc'], label='validation')\n",
        "plt.legend()\n",
        "plt.show();"
      ]
    },
    {
      "cell_type": "markdown",
      "metadata": {
        "id": "9jnw4wo9J2W1"
      },
      "source": [
        "**LSTM With pre-trained Embedding**"
      ]
    },
    {
      "cell_type": "code",
      "execution_count": 16,
      "metadata": {
        "colab": {
          "base_uri": "https://localhost:8080/"
        },
        "id": "Jue2cwBpJ1S0",
        "outputId": "dcc1cf9b-fcae-4ea6-91f6-ec3270b6db7c"
      },
      "outputs": [
        {
          "output_type": "stream",
          "name": "stdout",
          "text": [
            "WARNING:tensorflow:From /usr/local/lib/python3.7/dist-packages/tensorflow/python/ops/init_ops.py:1251: calling VarianceScaling.__init__ (from tensorflow.python.ops.init_ops) with dtype is deprecated and will be removed in a future version.\n",
            "Instructions for updating:\n",
            "Call initializer instance with the dtype argument instead of passing it to the constructor\n",
            "Train on 25753 samples, validate on 2862 samples\n",
            "WARNING:tensorflow:From /usr/local/lib/python3.7/dist-packages/tensorflow/python/ops/math_grad.py:1250: add_dispatch_support.<locals>.wrapper (from tensorflow.python.ops.array_ops) is deprecated and will be removed in a future version.\n",
            "Instructions for updating:\n",
            "Use tf.where in 2.0, which has the same broadcast rule as np.where\n",
            "Epoch 1/5\n",
            "25753/25753 [==============================] - 167s 6ms/sample - loss: 0.8581 - acc: 0.6718 - val_loss: 0.5754 - val_acc: 0.7645\n",
            "Epoch 2/5\n",
            "25753/25753 [==============================] - 164s 6ms/sample - loss: 0.5810 - acc: 0.7675 - val_loss: 0.5144 - val_acc: 0.7834\n",
            "Epoch 3/5\n",
            "25753/25753 [==============================] - 164s 6ms/sample - loss: 0.5228 - acc: 0.7873 - val_loss: 0.4951 - val_acc: 0.7932\n",
            "Epoch 4/5\n",
            "25753/25753 [==============================] - 168s 7ms/sample - loss: 0.4941 - acc: 0.8000 - val_loss: 0.4771 - val_acc: 0.7935\n",
            "Epoch 5/5\n",
            "25753/25753 [==============================] - 170s 7ms/sample - loss: 0.4706 - acc: 0.8105 - val_loss: 0.4662 - val_acc: 0.7991\n"
          ]
        }
      ],
      "source": [
        "model = Sequential()\n",
        "model.add(embedding_layer)\n",
        "model.add(SpatialDropout1D(0.2))\n",
        "model.add(LSTM(100, dropout=0.2, recurrent_dropout=0.2))\n",
        "model.add(Dense(6, activation='softmax'))\n",
        "model.compile(loss='categorical_crossentropy', optimizer='adam', metrics=['accuracy'])\n",
        "\n",
        "epochs = 5\n",
        "batch_size = 128\n",
        "\n",
        "history= model.fit(X_train, Y_train, epochs=epochs, batch_size=batch_size,validation_split=0.1,callbacks=[EarlyStopping(monitor='val_loss', patience=3, min_delta=0.0001)])"
      ]
    },
    {
      "cell_type": "code",
      "execution_count": 17,
      "metadata": {
        "colab": {
          "base_uri": "https://localhost:8080/"
        },
        "id": "KeS805kBKZiu",
        "outputId": "71282bbe-c87f-4193-9c11-31be9b7913e5"
      },
      "outputs": [
        {
          "output_type": "stream",
          "name": "stdout",
          "text": [
            "19077/19077 [==============================] - 44s 2ms/sample - loss: 0.4529 - acc: 0.8129\n",
            "Test set\n",
            "  Loss: 0.453\n",
            "  Accuracy: 0.813\n"
          ]
        }
      ],
      "source": [
        "accr = model.evaluate(X_test,Y_test)\n",
        "print('Test set\\n  Loss: {:0.3f}\\n  Accuracy: {:0.3f}'.format(accr[0],accr[1]))"
      ]
    },
    {
      "cell_type": "code",
      "execution_count": 18,
      "metadata": {
        "colab": {
          "base_uri": "https://localhost:8080/",
          "height": 281
        },
        "id": "95UFwTYRKaJN",
        "outputId": "0c8e4bd4-5ad7-4786-c7f4-f70779c99597"
      },
      "outputs": [
        {
          "output_type": "display_data",
          "data": {
            "text/plain": [
              "<Figure size 432x288 with 1 Axes>"
            ],
            "image/png": "[encoded data removed]"
          },
          "metadata": {
            "needs_background": "light"
          }
        }
      ],
      "source": [
        "plt.title('Loss')\n",
        "plt.plot(history.history['loss'], label='train')\n",
        "plt.plot(history.history['val_loss'], label='validation')\n",
        "plt.legend()\n",
        "plt.show();"
      ]
    },
    {
      "cell_type": "code",
      "execution_count": 19,
      "metadata": {
        "colab": {
          "base_uri": "https://localhost:8080/",
          "height": 281
        },
        "id": "wB0Zxw1XKamA",
        "outputId": "9c0e4ee4-35b3-41dd-e85a-b8f94e53ef7d"
      },
      "outputs": [
        {
          "output_type": "display_data",
          "data": {
            "text/plain": [
              "<Figure size 432x288 with 1 Axes>"
            ],
            "image/png": "[encoded data removed]"
          },
          "metadata": {
            "needs_background": "light"
          }
        }
      ],
      "source": [
        "plt.title('Accuracy')\n",
        "plt.plot(history.history['acc'], label='train')\n",
        "plt.plot(history.history['val_acc'], label='validation')\n",
        "plt.legend()\n",
        "plt.show();"
      ]
    },
    {
      "cell_type": "markdown",
      "metadata": {
        "id": "y0PrfaJEOeyq"
      },
      "source": [
        "**CNN Model**"
      ]
    },
    {
      "cell_type": "markdown",
      "metadata": {
        "id": "NHTNPE3IKRVi"
      },
      "source": [
        "**With Own Embedding**"
      ]
    },
    {
      "cell_type": "code",
      "execution_count": 33,
      "metadata": {
        "colab": {
          "base_uri": "https://localhost:8080/"
        },
        "id": "Vc1NjJt3RKo3",
        "outputId": "d6726761-d114-4994-a8b4-96ab5eb8002c"
      },
      "outputs": [
        {
          "output_type": "stream",
          "name": "stdout",
          "text": [
            "Defining and training a CNN model, training with own embedding\n",
            "Train on 32192 samples, validate on 3577 samples\n",
            "Epoch 1/5\n",
            "32192/32192 [==============================] - 102s 3ms/sample - loss: 0.6695 - acc: 0.7087 - val_loss: 0.4743 - val_acc: 0.7875\n",
            "Epoch 2/5\n",
            "32192/32192 [==============================] - 93s 3ms/sample - loss: 0.4230 - acc: 0.8276 - val_loss: 0.4694 - val_acc: 0.8046\n",
            "Epoch 3/5\n",
            "32192/32192 [==============================] - 94s 3ms/sample - loss: 0.3386 - acc: 0.8692 - val_loss: 0.4629 - val_acc: 0.8130\n",
            "Epoch 4/5\n",
            "32192/32192 [==============================] - 93s 3ms/sample - loss: 0.2704 - acc: 0.8979 - val_loss: 0.5013 - val_acc: 0.8124\n",
            "Epoch 5/5\n",
            "32192/32192 [==============================] - 92s 3ms/sample - loss: 0.2129 - acc: 0.9204 - val_loss: 0.5499 - val_acc: 0.8105\n"
          ]
        }
      ],
      "source": [
        "print(\"Defining and training a CNN model, training with own embedding\")\n",
        "cnnmodel = Sequential()\n",
        "cnnmodel.add(Embedding(MAX_NB_WORDS, 128))\n",
        "cnnmodel.add(Conv1D(128, 5, activation='relu'))\n",
        "cnnmodel.add(MaxPooling1D(5))\n",
        "cnnmodel.add(Conv1D(128, 5, activation='relu'))\n",
        "cnnmodel.add(MaxPooling1D(5))\n",
        "cnnmodel.add(Conv1D(128, 5, activation='relu'))\n",
        "cnnmodel.add(GlobalMaxPooling1D())\n",
        "cnnmodel.add(Dense(128, activation='relu'))\n",
        "cnnmodel.add(Dense(6, activation='softmax'))\n",
        "\n",
        "cnnmodel.compile(loss='categorical_crossentropy',\n",
        "              optimizer='rmsprop',\n",
        "              metrics=['acc'])\n",
        "#cnnmodel.summary()\n",
        "#Train the model. Tune to validation set. \n",
        "\n",
        "history= cnnmodel.fit(X_train, Y_train, epochs=5, batch_size=64,validation_split=0.1,callbacks=[EarlyStopping(monitor='val_loss', patience=3, min_delta=0.0001)])\n",
        "\n",
        "\n"
      ]
    },
    {
      "cell_type": "code",
      "execution_count": 22,
      "metadata": {
        "colab": {
          "base_uri": "https://localhost:8080/"
        },
        "id": "WW6vw7JfOXLu",
        "outputId": "379b0181-6a80-41f0-d144-d397d962d213"
      },
      "outputs": [
        {
          "output_type": "stream",
          "name": "stdout",
          "text": [
            "11923/11923 [==============================] - 7s 570us/sample - loss: 0.5676 - acc: 0.8053\n",
            "Test set\n",
            "  Loss: 0.568\n",
            "  Accuracy: 0.805\n"
          ]
        }
      ],
      "source": [
        "accr = cnnmodel.evaluate(X_test,Y_test)\n",
        "print('Test set\\n  Loss: {:0.3f}\\n  Accuracy: {:0.3f}'.format(accr[0],accr[1]))"
      ]
    },
    {
      "cell_type": "code",
      "execution_count": 34,
      "metadata": {
        "colab": {
          "base_uri": "https://localhost:8080/",
          "height": 281
        },
        "id": "3q1s0GC3OXiN",
        "outputId": "45f5912c-afce-4029-c58b-4d144c286579"
      },
      "outputs": [
        {
          "output_type": "display_data",
          "data": {
            "text/plain": [
              "<Figure size 432x288 with 1 Axes>"
            ],
            "image/png": "[encoded data removed]"
          },
          "metadata": {
            "needs_background": "light"
          }
        }
      ],
      "source": [
        "plt.title('Loss')\n",
        "plt.plot(history.history['loss'], label='train')\n",
        "plt.plot(history.history['val_loss'], label='validation')\n",
        "plt.legend()\n",
        "plt.show();"
      ]
    },
    {
      "cell_type": "code",
      "execution_count": 35,
      "metadata": {
        "id": "_qOWCi2hOX5P",
        "colab": {
          "base_uri": "https://localhost:8080/",
          "height": 281
        },
        "outputId": "a6533f37-5041-46a6-c433-5e001fd771ae"
      },
      "outputs": [
        {
          "output_type": "display_data",
          "data": {
            "text/plain": [
              "<Figure size 432x288 with 1 Axes>"
            ],
            "image/png": "[encoded data removed]"
          },
          "metadata": {
            "needs_background": "light"
          }
        }
      ],
      "source": [
        "plt.title('Accuracy')\n",
        "plt.plot(history.history['acc'], label='train')\n",
        "plt.plot(history.history['val_acc'], label='validation0')\n",
        "plt.legend()\n",
        "plt.show();"
      ]
    },
    {
      "cell_type": "markdown",
      "metadata": {
        "id": "yZPfjDm0LyzV"
      },
      "source": [
        "**With-pre trained embedding**"
      ]
    },
    {
      "cell_type": "code",
      "execution_count": 29,
      "metadata": {
        "colab": {
          "base_uri": "https://localhost:8080/"
        },
        "id": "oEwOe3dCPMJ6",
        "outputId": "2245f578-b3c7-4821-8019-f37d63677fbd"
      },
      "outputs": [
        {
          "output_type": "stream",
          "name": "stdout",
          "text": [
            "Defining and training a CNN model, training with pre-trained embedding\n",
            "Train on 32192 samples, validate on 3577 samples\n",
            "Epoch 1/5\n",
            "32192/32192 [==============================] - 52s 2ms/sample - loss: 0.6512 - acc: 0.7269 - val_loss: 0.5111 - val_acc: 0.7842\n",
            "Epoch 2/5\n",
            "32192/32192 [==============================] - 58s 2ms/sample - loss: 0.4657 - acc: 0.8045 - val_loss: 0.5697 - val_acc: 0.7783\n",
            "Epoch 3/5\n",
            "32192/32192 [==============================] - 51s 2ms/sample - loss: 0.4050 - acc: 0.8298 - val_loss: 0.4900 - val_acc: 0.7959\n",
            "Epoch 4/5\n",
            "32192/32192 [==============================] - 52s 2ms/sample - loss: 0.3543 - acc: 0.8494 - val_loss: 0.5301 - val_acc: 0.7920\n",
            "Epoch 5/5\n",
            "32192/32192 [==============================] - 51s 2ms/sample - loss: 0.3161 - acc: 0.8669 - val_loss: 0.6085 - val_acc: 0.7861\n"
          ]
        }
      ],
      "source": [
        "print(\"Defining and training a CNN model, training with pre-trained embedding\")\n",
        "cnnmodele = Sequential()\n",
        "cnnmodele.add(embedding_layer)\n",
        "cnnmodele.add(Conv1D(128, 5, activation='relu'))\n",
        "cnnmodele.add(MaxPooling1D(5))\n",
        "cnnmodele.add(Conv1D(128, 5, activation='relu'))\n",
        "cnnmodele.add(MaxPooling1D(5))\n",
        "cnnmodele.add(Conv1D(128, 5, activation='relu'))\n",
        "cnnmodele.add(GlobalMaxPooling1D())\n",
        "cnnmodele.add(Dense(128, activation='relu'))\n",
        "cnnmodele.add(Dense(6, activation='softmax'))\n",
        "\n",
        "cnnmodele.compile(loss='categorical_crossentropy',\n",
        "              optimizer='rmsprop',\n",
        "              metrics=['acc'])\n",
        "\n",
        "#Train the model. Tune to validation set. \n",
        "\n",
        "history = cnnmodele.fit(X_train, Y_train, epochs=5, batch_size=64,validation_split=0.1,callbacks=[EarlyStopping(monitor='val_loss', patience=3, min_delta=0.0001)])"
      ]
    },
    {
      "cell_type": "code",
      "execution_count": 30,
      "metadata": {
        "colab": {
          "base_uri": "https://localhost:8080/"
        },
        "id": "XWNJexNAPU1u",
        "outputId": "cad372de-b2e9-405d-d9eb-bc1073c18b1e"
      },
      "outputs": [
        {
          "output_type": "stream",
          "name": "stdout",
          "text": [
            "11923/11923 [==============================] - 9s 740us/sample - loss: 0.5989 - acc: 0.7876\n",
            "[0.5988994807937267, 0.78763735]\n",
            "Test set\n",
            "  Loss: 0.599\n",
            "  Accuracy: 0.788\n"
          ]
        }
      ],
      "source": [
        "accr = cnnmodele.evaluate(X_test,Y_test)\n",
        "print(accr)\n",
        "print('Test set\\n  Loss: {:0.3f}\\n  Accuracy: {:0.3f}'.format(accr[0],accr[1]))"
      ]
    },
    {
      "cell_type": "code",
      "execution_count": 31,
      "metadata": {
        "id": "t4l2Dd4lPVKn",
        "colab": {
          "base_uri": "https://localhost:8080/",
          "height": 281
        },
        "outputId": "084240a5-6159-4574-9a3b-acaecebafd72"
      },
      "outputs": [
        {
          "output_type": "display_data",
          "data": {
            "text/plain": [
              "<Figure size 432x288 with 1 Axes>"
            ],
            "image/png": "[encoded data removed]"
          },
          "metadata": {
            "needs_background": "light"
          }
        }
      ],
      "source": [
        "plt.title('Loss')\n",
        "plt.plot(history.history['loss'], label='train')\n",
        "plt.plot(history.history['val_loss'], label='validation')\n",
        "plt.legend()\n",
        "plt.show();"
      ]
    },
    {
      "cell_type": "code",
      "execution_count": 32,
      "metadata": {
        "id": "y_7NhhnYPVnw",
        "colab": {
          "base_uri": "https://localhost:8080/",
          "height": 281
        },
        "outputId": "ec33f55f-0c77-4c31-be9d-4fb2ef768ba8"
      },
      "outputs": [
        {
          "output_type": "display_data",
          "data": {
            "text/plain": [
              "<Figure size 432x288 with 1 Axes>"
            ],
            "image/png": "[encoded data removed]"
          },
          "metadata": {
            "needs_background": "light"
          }
        }
      ],
      "source": [
        "plt.title('Accuracy')\n",
        "plt.plot(history.history['acc'], label='train')\n",
        "plt.plot(history.history['val_acc'], label='validation')\n",
        "plt.legend()\n",
        "plt.show();"
      ]
    },
    {
      "cell_type": "markdown",
      "metadata": {
        "id": "acNwCQz8PWtE"
      },
      "source": [
        "**Texting with some new data**"
      ]
    },
    {
      "cell_type": "code",
      "execution_count": 21,
      "metadata": {
        "colab": {
          "base_uri": "https://localhost:8080/"
        },
        "id": "IvCGqKnnR_eV",
        "outputId": "4e5f98b4-063c-48e1-8e7c-a19cae4f7b97"
      },
      "outputs": [
        {
          "output_type": "stream",
          "name": "stderr",
          "text": [
            "[nltk_data] Downloading package vader_lexicon to /root/nltk_data...\n"
          ]
        }
      ],
      "source": [
        "nltk.download('vader_lexicon')\n",
        "from nltk.sentiment.vader import SentimentIntensityAnalyzer\n",
        "sid = SentimentIntensityAnalyzer()\n",
        "import matplotlib.pyplot as plt"
      ]
    },
    {
      "cell_type": "code",
      "execution_count": 31,
      "metadata": {
        "colab": {
          "base_uri": "https://localhost:8080/"
        },
        "id": "4_kInllvxXpO",
        "outputId": "41a60f84-2a55-4540-a2d5-bbb938c02847"
      },
      "outputs": [
        {
          "output_type": "stream",
          "name": "stdout",
          "text": [
            "Enter the tweet: love all people\n",
            "love all people\n",
            "The level of toxicity is:  0.0\n",
            "The category of cyber bullying is:  Not_Cb\n"
          ]
        }
      ],
      "source": [
        "val = input(\"Enter the tweet: \")\n",
        "new_tweet=val\n",
        "clean_text(new_tweet)\n",
        "scores=sid.polarity_scores(val)\n",
        "print(new_tweet)\n",
        "print(\"The level of toxicity is: \",scores['neg'])\n",
        "new_tweet=[new_tweet]\n",
        "seq = tokenizer.texts_to_sequences(new_tweet)\n",
        "padded = pad_sequences(seq, maxlen=MAX_SEQUENCE_LENGTH)\n",
        "pred = model.predict(padded)\n",
        "labels=['Age','Ethnicity','Gender','Not_Cb','Other','religion']\n",
        "#print(pred, labels[np.argmax(pred)])\n",
        "print(\"The category of cyber bullying is: \", labels[np.argmax(pred)])"
      ]
    },
    {
      "cell_type": "code",
      "source": [
        "val = input(\"Enter the tweet: \")\n",
        "new_tweet=val\n",
        "clean_text(new_tweet)\n",
        "scores=sid.polarity_scores(val)\n",
        "print(new_tweet)\n",
        "print(\"The level of toxicity is: \",scores['neg'])\n",
        "new_tweet=[new_tweet]\n",
        "seq = tokenizer.texts_to_sequences(new_tweet)\n",
        "padded = pad_sequences(seq, maxlen=MAX_SEQUENCE_LENGTH)\n",
        "pred = model.predict(padded)\n",
        "labels=['Age','Ethnicity','Gender','Not_Cb','Other','religion']\n",
        "#print(pred, labels[np.argmax(pred)])\n",
        "print(\"The category of cyber bullying is: \", labels[np.argmax(pred)])"
      ],
      "metadata": {
        "colab": {
          "base_uri": "https://localhost:8080/"
        },
        "id": "JNliWOEUNE2_",
        "outputId": "d6d6de22-24a8-4638-d959-4f1858452e39"
      },
      "execution_count": null,
      "outputs": [
        {
          "output_type": "stream",
          "name": "stdout",
          "text": [
            "Enter the tweet: Christians are bad people\n",
            "Christians are bad people\n",
            "The level of toxicity is:  0.538\n",
            "The category of cyber bullying is:  religion\n"
          ]
        }
      ]
    },
    {
      "cell_type": "code",
      "source": [
        "val = input(\"Enter the tweet: \")\n",
        "new_tweet=val\n",
        "clean_text(new_tweet)\n",
        "scores=sid.polarity_scores(val)\n",
        "print(new_tweet)\n",
        "print(\"The level of toxicity is: \",scores['neg'])\n",
        "new_tweet=[new_tweet]\n",
        "seq = tokenizer.texts_to_sequences(new_tweet)\n",
        "padded = pad_sequences(seq, maxlen=MAX_SEQUENCE_LENGTH)\n",
        "pred = model.predict(padded)\n",
        "labels=['Age','Ethnicity','Gender','Not_Cb','Other','religion']\n",
        "#print(pred, labels[np.argmax(pred)])\n",
        "print(\"The category of cyber bullying is: \", labels[np.argmax(pred)])"
      ],
      "metadata": {
        "colab": {
          "base_uri": "https://localhost:8080/"
        },
        "id": "P7ch2fD2Nyav",
        "outputId": "7bd2c788-98d0-46f3-f6ba-94a9cf3261d0"
      },
      "execution_count": null,
      "outputs": [
        {
          "output_type": "stream",
          "name": "stdout",
          "text": [
            "Enter the tweet: Dumb black people\n",
            "Dumb black people\n",
            "The level of toxicity is:  0.623\n",
            "The category of cyber bullying is:  Ethnicity\n"
          ]
        }
      ]
    },
    {
      "cell_type": "code",
      "source": [
        "val = input(\"Enter the tweet: \")\n",
        "new_tweet=val\n",
        "clean_text(new_tweet)\n",
        "scores=sid.polarity_scores(val)\n",
        "print(new_tweet)\n",
        "print(\"The level of toxicity is: \",scores['neg'])\n",
        "new_tweet=[new_tweet]\n",
        "seq = tokenizer.texts_to_sequences(new_tweet)\n",
        "padded = pad_sequences(seq, maxlen=MAX_SEQUENCE_LENGTH)\n",
        "pred = model.predict(padded)\n",
        "labels=['Age','Ethnicity','Gender','Not_Cb','Other','religion']\n",
        "#print(pred, labels[np.argmax(pred)])\n",
        "print(\"The category of cyber bullying is: \", labels[np.argmax(pred)])"
      ],
      "metadata": {
        "colab": {
          "base_uri": "https://localhost:8080/"
        },
        "id": "fFFLeC0ZN9dw",
        "outputId": "3adb4849-cc9f-4ac2-bbc0-705271226e2d"
      },
      "execution_count": null,
      "outputs": [
        {
          "output_type": "stream",
          "name": "stdout",
          "text": [
            "Enter the tweet: Gay people are dumb\n",
            "Gay people are dumb\n",
            "The level of toxicity is:  0.524\n",
            "The category of cyber bullying is:  Gender\n"
          ]
        }
      ]
    },
    {
      "cell_type": "code",
      "source": [
        "val = input(\"Enter the tweet: \")\n",
        "new_tweet=val\n",
        "clean_text(new_tweet)\n",
        "scores=sid.polarity_scores(val)\n",
        "print(new_tweet)\n",
        "print(\"The level of toxicity is: \",scores['neg'])\n",
        "new_tweet=[new_tweet]\n",
        "seq = tokenizer.texts_to_sequences(new_tweet)\n",
        "padded = pad_sequences(seq, maxlen=MAX_SEQUENCE_LENGTH)\n",
        "pred = model.predict(padded)\n",
        "labels=['Age','Ethnicity','Gender','Not_Cb','Other','religion']\n",
        "#print(pred, labels[np.argmax(pred)])\n",
        "print(\"The category of cyber bullying is: \", labels[np.argmax(pred)])"
      ],
      "metadata": {
        "colab": {
          "base_uri": "https://localhost:8080/"
        },
        "id": "_mvICBe4OSKH",
        "outputId": "1f726ec0-ae59-4b1f-8b7b-08444fbcd355"
      },
      "execution_count": null,
      "outputs": [
        {
          "output_type": "stream",
          "name": "stdout",
          "text": [
            "Enter the tweet: Love all people\n",
            "Love all people\n",
            "The level of toxicity is:  0.0\n",
            "The category of cyber bullying is:  Not_Cb\n"
          ]
        }
      ]
    },
    {
      "cell_type": "code",
      "source": [
        ""
      ],
      "metadata": {
        "id": "CvFClTn7NQmm"
      },
      "execution_count": null,
      "outputs": []
    }
  ],
  "metadata": {
    "accelerator": "GPU",
    "colab": {
      "collapsed_sections": [],
      "name": "CNN and LSTM.ipynb",
      "provenance": []
    },
    "gpuClass": "standard",
    "kernelspec": {
      "display_name": "Python 3",
      "name": "python3"
    },
    "language_info": {
      "name": "python"
    }
  },
  "nbformat": 4,
  "nbformat_minor": 0
}