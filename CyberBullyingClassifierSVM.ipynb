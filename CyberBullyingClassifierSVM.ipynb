{
 "cells": [
  {
   "cell_type": "code",
   "execution_count": 1,
   "metadata": {
    "id": "HCoPlQFz38zO"
   },
   "outputs": [],
   "source": [
    "import warnings\n",
    "warnings.filterwarnings('ignore')\n",
    "import numpy as np\n",
    "import pandas as pd # to work with csv files\n",
    "\n",
    "# matplotlib imports are used to plot confusion matrices for the classifiers\n",
    "import matplotlib as mpl \n",
    "import matplotlib.cm as cm \n",
    "import matplotlib.pyplot as plt \n",
    "\n",
    "# import feature extraction methods from sklearn\n",
    "from sklearn.feature_extraction.text import CountVectorizer\n",
    "from sklearn.feature_extraction import _stop_words\n",
    "\n",
    "# pre-processing of text\n",
    "import string\n",
    "import re\n",
    "\n",
    "# import classifiers from sklearn\n",
    "from sklearn.naive_bayes import MultinomialNB\n",
    "from sklearn.linear_model import LogisticRegression\n",
    "from sklearn.svm import LinearSVC\n",
    "\n",
    "# import different metrics to evaluate the classifiers\n",
    "from sklearn.metrics import accuracy_score\n",
    "\n",
    "# from sklearn.model_selection import train_test_split\n",
    "from sklearn.metrics import confusion_matrix \n",
    "from sklearn import metrics\n",
    "\n",
    "# import time function from time module to track the training duration\n",
    "from time import time"
   ]
  },
  {
   "cell_type": "code",
   "execution_count": 2,
   "metadata": {
    "colab": {
     "base_uri": "https://localhost:8080/",
     "height": 677
    },
    "id": "EeFVIbkh4AzY",
    "outputId": "5f0fdc9d-0e47-465f-ac81-b65e79857080"
   },
   "outputs": [
    {
     "data": {
      "text/html": [
       "<div>\n",
       "<style scoped>\n",
       "    .dataframe tbody tr th:only-of-type {\n",
       "        vertical-align: middle;\n",
       "    }\n",
       "\n",
       "    .dataframe tbody tr th {\n",
       "        vertical-align: top;\n",
       "    }\n",
       "\n",
       "    .dataframe thead th {\n",
       "        text-align: right;\n",
       "    }\n",
       "</style>\n",
       "<table border=\"1\" class=\"dataframe\">\n",
       "  <thead>\n",
       "    <tr style=\"text-align: right;\">\n",
       "      <th></th>\n",
       "      <th>tweet_text</th>\n",
       "      <th>cyberbullying_type</th>\n",
       "    </tr>\n",
       "  </thead>\n",
       "  <tbody>\n",
       "    <tr>\n",
       "      <th>0</th>\n",
       "      <td>certain situations. Im grown and educated now ...</td>\n",
       "      <td>ethnicity</td>\n",
       "    </tr>\n",
       "    <tr>\n",
       "      <th>1</th>\n",
       "      <td>There is humanity of jamatis but my creative #...</td>\n",
       "      <td>religion</td>\n",
       "    </tr>\n",
       "    <tr>\n",
       "      <th>2</th>\n",
       "      <td>@krainboltgreene https://t.co/FO2FBlj5wy</td>\n",
       "      <td>other_cyberbullying</td>\n",
       "    </tr>\n",
       "    <tr>\n",
       "      <th>3</th>\n",
       "      <td>Now Annie is worried about the blondes.. Too l...</td>\n",
       "      <td>gender</td>\n",
       "    </tr>\n",
       "    <tr>\n",
       "      <th>4</th>\n",
       "      <td>@CamilleHughes16 @IftikharAwan What does that ...</td>\n",
       "      <td>not_cyberbullying</td>\n",
       "    </tr>\n",
       "    <tr>\n",
       "      <th>5</th>\n",
       "      <td>Barr was high school bully.</td>\n",
       "      <td>age</td>\n",
       "    </tr>\n",
       "    <tr>\n",
       "      <th>6</th>\n",
       "      <td>idk about y’all but he looks like bully me in ...</td>\n",
       "      <td>age</td>\n",
       "    </tr>\n",
       "    <tr>\n",
       "      <th>7</th>\n",
       "      <td>Calling people dumb isnt nice :( RT @tayyoung_...</td>\n",
       "      <td>ethnicity</td>\n",
       "    </tr>\n",
       "    <tr>\n",
       "      <th>8</th>\n",
       "      <td>@AWPromotions so john cena make gay comments. ...</td>\n",
       "      <td>gender</td>\n",
       "    </tr>\n",
       "    <tr>\n",
       "      <th>9</th>\n",
       "      <td>@TheSunNewspaper #pinkbus the feminazi bus arr...</td>\n",
       "      <td>gender</td>\n",
       "    </tr>\n",
       "    <tr>\n",
       "      <th>10</th>\n",
       "      <td>in high school the worst thing wasn’t the bull...</td>\n",
       "      <td>age</td>\n",
       "    </tr>\n",
       "    <tr>\n",
       "      <th>11</th>\n",
       "      <td>When the poor vendor replied MUSLIM, the SUV g...</td>\n",
       "      <td>religion</td>\n",
       "    </tr>\n",
       "    <tr>\n",
       "      <th>12</th>\n",
       "      <td>update as well as suicide, rape, and abuse, I'...</td>\n",
       "      <td>gender</td>\n",
       "    </tr>\n",
       "    <tr>\n",
       "      <th>13</th>\n",
       "      <td>Yeah, Hindus don't cow-lynch, it must be ghost...</td>\n",
       "      <td>religion</td>\n",
       "    </tr>\n",
       "    <tr>\n",
       "      <th>14</th>\n",
       "      <td>ARE YOU TELLING ME ALL THOSE CALLOUT POSTS ARE...</td>\n",
       "      <td>age</td>\n",
       "    </tr>\n",
       "    <tr>\n",
       "      <th>15</th>\n",
       "      <td>She's trying to play it as \"we can have our ow...</td>\n",
       "      <td>other_cyberbullying</td>\n",
       "    </tr>\n",
       "    <tr>\n",
       "      <th>16</th>\n",
       "      <td>@JalenReeves_10 @toddneville Putting her nasty...</td>\n",
       "      <td>other_cyberbullying</td>\n",
       "    </tr>\n",
       "    <tr>\n",
       "      <th>17</th>\n",
       "      <td>I’m not racist or an idiot- I am seeing the HY...</td>\n",
       "      <td>religion</td>\n",
       "    </tr>\n",
       "    <tr>\n",
       "      <th>18</th>\n",
       "      <td>@RogerWilliamsTX has a daughter about same age...</td>\n",
       "      <td>gender</td>\n",
       "    </tr>\n",
       "    <tr>\n",
       "      <th>19</th>\n",
       "      <td>What is going on with Ems &amp;amp; Shez?! #MKR su...</td>\n",
       "      <td>not_cyberbullying</td>\n",
       "    </tr>\n",
       "  </tbody>\n",
       "</table>\n",
       "</div>"
      ],
      "text/plain": [
       "                                           tweet_text   cyberbullying_type\n",
       "0   certain situations. Im grown and educated now ...            ethnicity\n",
       "1   There is humanity of jamatis but my creative #...             religion\n",
       "2            @krainboltgreene https://t.co/FO2FBlj5wy  other_cyberbullying\n",
       "3   Now Annie is worried about the blondes.. Too l...               gender\n",
       "4   @CamilleHughes16 @IftikharAwan What does that ...    not_cyberbullying\n",
       "5                         Barr was high school bully.                  age\n",
       "6   idk about y’all but he looks like bully me in ...                  age\n",
       "7   Calling people dumb isnt nice :( RT @tayyoung_...            ethnicity\n",
       "8   @AWPromotions so john cena make gay comments. ...               gender\n",
       "9   @TheSunNewspaper #pinkbus the feminazi bus arr...               gender\n",
       "10  in high school the worst thing wasn’t the bull...                  age\n",
       "11  When the poor vendor replied MUSLIM, the SUV g...             religion\n",
       "12  update as well as suicide, rape, and abuse, I'...               gender\n",
       "13  Yeah, Hindus don't cow-lynch, it must be ghost...             religion\n",
       "14  ARE YOU TELLING ME ALL THOSE CALLOUT POSTS ARE...                  age\n",
       "15  She's trying to play it as \"we can have our ow...  other_cyberbullying\n",
       "16  @JalenReeves_10 @toddneville Putting her nasty...  other_cyberbullying\n",
       "17  I’m not racist or an idiot- I am seeing the HY...             religion\n",
       "18  @RogerWilliamsTX has a daughter about same age...               gender\n",
       "19  What is going on with Ems &amp; Shez?! #MKR su...    not_cyberbullying"
      ]
     },
     "execution_count": 2,
     "metadata": {},
     "output_type": "execute_result"
    }
   ],
   "source": [
    "mydata=pd.read_csv(\"cyberbullying_tweets.csv\")\n",
    "mydata.head(20)\n"
   ]
  },
  {
   "cell_type": "code",
   "execution_count": 3,
   "metadata": {
    "id": "cJp14_7U4nkF"
   },
   "outputs": [],
   "source": [
    "mydata[\"cyberbullying_type\"].value_counts()/mydata.shape[0]\n",
    "mydata[\"cb_type_num\"] = pd.factorize(mydata[\"cyberbullying_type\"])[0]+1"
   ]
  },
  {
   "cell_type": "code",
   "execution_count": 4,
   "metadata": {
    "colab": {
     "base_uri": "https://localhost:8080/",
     "height": 677
    },
    "id": "ABICRWJe9Cfv",
    "outputId": "9865f4f1-cb13-438a-86b4-8b8c5b2bec35"
   },
   "outputs": [
    {
     "data": {
      "text/html": [
       "<div>\n",
       "<style scoped>\n",
       "    .dataframe tbody tr th:only-of-type {\n",
       "        vertical-align: middle;\n",
       "    }\n",
       "\n",
       "    .dataframe tbody tr th {\n",
       "        vertical-align: top;\n",
       "    }\n",
       "\n",
       "    .dataframe thead th {\n",
       "        text-align: right;\n",
       "    }\n",
       "</style>\n",
       "<table border=\"1\" class=\"dataframe\">\n",
       "  <thead>\n",
       "    <tr style=\"text-align: right;\">\n",
       "      <th></th>\n",
       "      <th>tweet_text</th>\n",
       "      <th>cb_type_num</th>\n",
       "    </tr>\n",
       "  </thead>\n",
       "  <tbody>\n",
       "    <tr>\n",
       "      <th>0</th>\n",
       "      <td>certain situations. Im grown and educated now ...</td>\n",
       "      <td>1</td>\n",
       "    </tr>\n",
       "    <tr>\n",
       "      <th>1</th>\n",
       "      <td>There is humanity of jamatis but my creative #...</td>\n",
       "      <td>2</td>\n",
       "    </tr>\n",
       "    <tr>\n",
       "      <th>2</th>\n",
       "      <td>@krainboltgreene https://t.co/FO2FBlj5wy</td>\n",
       "      <td>3</td>\n",
       "    </tr>\n",
       "    <tr>\n",
       "      <th>3</th>\n",
       "      <td>Now Annie is worried about the blondes.. Too l...</td>\n",
       "      <td>4</td>\n",
       "    </tr>\n",
       "    <tr>\n",
       "      <th>4</th>\n",
       "      <td>@CamilleHughes16 @IftikharAwan What does that ...</td>\n",
       "      <td>5</td>\n",
       "    </tr>\n",
       "    <tr>\n",
       "      <th>5</th>\n",
       "      <td>Barr was high school bully.</td>\n",
       "      <td>6</td>\n",
       "    </tr>\n",
       "    <tr>\n",
       "      <th>6</th>\n",
       "      <td>idk about y’all but he looks like bully me in ...</td>\n",
       "      <td>6</td>\n",
       "    </tr>\n",
       "    <tr>\n",
       "      <th>7</th>\n",
       "      <td>Calling people dumb isnt nice :( RT @tayyoung_...</td>\n",
       "      <td>1</td>\n",
       "    </tr>\n",
       "    <tr>\n",
       "      <th>8</th>\n",
       "      <td>@AWPromotions so john cena make gay comments. ...</td>\n",
       "      <td>4</td>\n",
       "    </tr>\n",
       "    <tr>\n",
       "      <th>9</th>\n",
       "      <td>@TheSunNewspaper #pinkbus the feminazi bus arr...</td>\n",
       "      <td>4</td>\n",
       "    </tr>\n",
       "    <tr>\n",
       "      <th>10</th>\n",
       "      <td>in high school the worst thing wasn’t the bull...</td>\n",
       "      <td>6</td>\n",
       "    </tr>\n",
       "    <tr>\n",
       "      <th>11</th>\n",
       "      <td>When the poor vendor replied MUSLIM, the SUV g...</td>\n",
       "      <td>2</td>\n",
       "    </tr>\n",
       "    <tr>\n",
       "      <th>12</th>\n",
       "      <td>update as well as suicide, rape, and abuse, I'...</td>\n",
       "      <td>4</td>\n",
       "    </tr>\n",
       "    <tr>\n",
       "      <th>13</th>\n",
       "      <td>Yeah, Hindus don't cow-lynch, it must be ghost...</td>\n",
       "      <td>2</td>\n",
       "    </tr>\n",
       "    <tr>\n",
       "      <th>14</th>\n",
       "      <td>ARE YOU TELLING ME ALL THOSE CALLOUT POSTS ARE...</td>\n",
       "      <td>6</td>\n",
       "    </tr>\n",
       "    <tr>\n",
       "      <th>15</th>\n",
       "      <td>She's trying to play it as \"we can have our ow...</td>\n",
       "      <td>3</td>\n",
       "    </tr>\n",
       "    <tr>\n",
       "      <th>16</th>\n",
       "      <td>@JalenReeves_10 @toddneville Putting her nasty...</td>\n",
       "      <td>3</td>\n",
       "    </tr>\n",
       "    <tr>\n",
       "      <th>17</th>\n",
       "      <td>I’m not racist or an idiot- I am seeing the HY...</td>\n",
       "      <td>2</td>\n",
       "    </tr>\n",
       "    <tr>\n",
       "      <th>18</th>\n",
       "      <td>@RogerWilliamsTX has a daughter about same age...</td>\n",
       "      <td>4</td>\n",
       "    </tr>\n",
       "    <tr>\n",
       "      <th>19</th>\n",
       "      <td>What is going on with Ems &amp;amp; Shez?! #MKR su...</td>\n",
       "      <td>5</td>\n",
       "    </tr>\n",
       "  </tbody>\n",
       "</table>\n",
       "</div>"
      ],
      "text/plain": [
       "                                           tweet_text  cb_type_num\n",
       "0   certain situations. Im grown and educated now ...            1\n",
       "1   There is humanity of jamatis but my creative #...            2\n",
       "2            @krainboltgreene https://t.co/FO2FBlj5wy            3\n",
       "3   Now Annie is worried about the blondes.. Too l...            4\n",
       "4   @CamilleHughes16 @IftikharAwan What does that ...            5\n",
       "5                         Barr was high school bully.            6\n",
       "6   idk about y’all but he looks like bully me in ...            6\n",
       "7   Calling people dumb isnt nice :( RT @tayyoung_...            1\n",
       "8   @AWPromotions so john cena make gay comments. ...            4\n",
       "9   @TheSunNewspaper #pinkbus the feminazi bus arr...            4\n",
       "10  in high school the worst thing wasn’t the bull...            6\n",
       "11  When the poor vendor replied MUSLIM, the SUV g...            2\n",
       "12  update as well as suicide, rape, and abuse, I'...            4\n",
       "13  Yeah, Hindus don't cow-lynch, it must be ghost...            2\n",
       "14  ARE YOU TELLING ME ALL THOSE CALLOUT POSTS ARE...            6\n",
       "15  She's trying to play it as \"we can have our ow...            3\n",
       "16  @JalenReeves_10 @toddneville Putting her nasty...            3\n",
       "17  I’m not racist or an idiot- I am seeing the HY...            2\n",
       "18  @RogerWilliamsTX has a daughter about same age...            4\n",
       "19  What is going on with Ems &amp; Shez?! #MKR su...            5"
      ]
     },
     "execution_count": 4,
     "metadata": {},
     "output_type": "execute_result"
    }
   ],
   "source": [
    "mydata_final=mydata[[\"tweet_text\",\"cb_type_num\"]]\n",
    "mydata_final.head(20)"
   ]
  },
  {
   "cell_type": "code",
   "execution_count": 5,
   "metadata": {
    "id": "Jh9KgLN59b5J"
   },
   "outputs": [],
   "source": [
    "stopwords = _stop_words.ENGLISH_STOP_WORDS\n",
    "def clean(doc): # doc is a string of text\n",
    "    doc = doc.replace(\"</br>\", \" \") # This text contains a lot of <br/> tags.\n",
    "    doc = \"\".join([char for char in doc if char not in string.punctuation and not char.isdigit()])\n",
    "    doc = \" \".join([token for token in doc.split() if token not in stopwords])\n",
    "    # remove punctuation and numbers\n",
    "    return doc"
   ]
  },
  {
   "cell_type": "code",
   "execution_count": 6,
   "metadata": {
    "colab": {
     "base_uri": "https://localhost:8080/"
    },
    "id": "P1tZ1JRa9mms",
    "outputId": "118d39d1-48fc-48e6-abe1-d331360d39b7"
   },
   "outputs": [
    {
     "name": "stdout",
     "output_type": "stream",
     "text": [
      "(47692,) (47692,)\n",
      "(28615,) (28615,)\n",
      "(19077,) (19077,)\n"
     ]
    }
   ],
   "source": [
    "import sklearn\n",
    "#from sklearn.cross_validation import train_test_split\n",
    "from sklearn.model_selection import train_test_split\n",
    "\n",
    "# Step 1: train-test split\n",
    "X = mydata_final.tweet_text # the column text contains textual data to extract features from\n",
    "y = mydata_final.cb_type_num # this is the column we are learning to predict. \n",
    "print(X.shape, y.shape)\n",
    "# split X and y into training and testing sets. By default, it splits 75% training and 25% test\n",
    "# random_state=1 for reproducibility\n",
    "X_train, X_test, y_train, y_test = train_test_split(X, y,test_size=0.4, random_state=1)\n",
    "print(X_train.shape, y_train.shape)\n",
    "print(X_test.shape, y_test.shape)\n"
   ]
  },
  {
   "cell_type": "code",
   "execution_count": 7,
   "metadata": {
    "colab": {
     "base_uri": "https://localhost:8080/"
    },
    "id": "3UujnSXt-lx2",
    "outputId": "c5caacdb-bc6d-4260-9dec-89c6cc6d3990"
   },
   "outputs": [
    {
     "name": "stdout",
     "output_type": "stream",
     "text": [
      "(28615, 55591) (19077, 55591)\n"
     ]
    }
   ],
   "source": [
    "# Step 2-3: Preprocess and Vectorize train and test data\n",
    "vect = CountVectorizer(preprocessor=clean) # instantiate a vectoriezer\n",
    "X_train_dtm = vect.fit_transform(X_train)# use it to extract features from training data\n",
    "# transform testing data (using training data's features)\n",
    "X_test_dtm = vect.transform(X_test)\n",
    "print(X_train_dtm.shape, X_test_dtm.shape)\n",
    "# i.e., the dimension of our feature vector is 49753!"
   ]
  },
  {
   "cell_type": "code",
   "execution_count": 8,
   "metadata": {},
   "outputs": [
    {
     "name": "stdout",
     "output_type": "stream",
     "text": [
      "Wall time: 1min 5s\n",
      "Wall time: 1min 57s\n",
      "Wall time: 4min 18s\n",
      "Wall time: 58.3 s\n"
     ]
    },
    {
     "data": {
      "text/plain": [
       "SVC(kernel='sigmoid', random_state=0)"
      ]
     },
     "execution_count": 8,
     "metadata": {},
     "output_type": "execute_result"
    }
   ],
   "source": [
    "from sklearn.svm import SVC \n",
    "LinearClassifier = SVC(kernel='linear', random_state=0)\n",
    "%time LinearClassifier.fit(X_train_dtm, y_train)\n",
    "\n",
    "RBFClassifier = SVC(kernel='rbf', random_state=0)\n",
    "%time RBFClassifier.fit(X_train_dtm, y_train)\n",
    "\n",
    "PolynomialClassifier = SVC(kernel='poly', random_state=0)\n",
    "%time PolynomialClassifier.fit(X_train_dtm, y_train)\n",
    "\n",
    "SigmoidClassifier = SVC(kernel='sigmoid', random_state=0)\n",
    "%time SigmoidClassifier.fit(X_train_dtm, y_train)  "
   ]
  },
  {
   "cell_type": "code",
   "execution_count": 9,
   "metadata": {},
   "outputs": [],
   "source": [
    "y_pred_class_linear = LinearClassifier.predict(X_test_dtm) # make class predictions for X_test_dtm\n",
    "y_pred_class_RBF = RBFClassifier.predict(X_test_dtm) # make class predictions for X_test_dtm\n",
    "y_pred_class_Polynomial = PolynomialClassifier.predict(X_test_dtm) # make class predictions for X_test_dtm\n",
    "y_pred_class_sigmoid = SigmoidClassifier.predict(X_test_dtm) # make class predictions for X_test_dtm"
   ]
  },
  {
   "cell_type": "code",
   "execution_count": 10,
   "metadata": {
    "colab": {
     "base_uri": "https://localhost:8080/",
     "height": 512
    },
    "id": "1o8HK1c_-zd3",
    "outputId": "52dcf60f-9d66-4821-fba9-6b26acd364b2"
   },
   "outputs": [],
   "source": [
    "# Step 4: Evaluate the classifier using various measures\n",
    "\n",
    "# Function to plot confusion matrix. \n",
    "# Ref:http://scikit-learn.org/stable/auto_examples/model_selection/plot_confusion_matrix.html\n",
    "import itertools\n",
    "from sklearn.metrics import roc_auc_score, recall_score,precision_score\n",
    "\n",
    "def plot_confusion_matrix(cm, classes,\n",
    "                          normalize=False,\n",
    "                          title='Confusion matrix',\n",
    "                          cmap=plt.cm.Blues):\n",
    "    \"\"\"\n",
    "    This function prints and plots the confusion matrix.\n",
    "    Normalization can be applied by setting `normalize=True`.\n",
    "    \"\"\"\n",
    "    if normalize:\n",
    "        cm = cm.astype('float') / cm.sum(axis=1)[:, np.newaxis]\n",
    "\n",
    "    plt.imshow(cm, interpolation='nearest', cmap=cmap)\n",
    "    plt.title(title)\n",
    "    plt.colorbar()\n",
    "    tick_marks = np.arange(len(classes))\n",
    "    plt.xticks(tick_marks, classes, rotation=45)\n",
    "    plt.yticks(tick_marks, classes)\n",
    "\n",
    "    fmt = '.2f' if normalize else 'd'\n",
    "    thresh = cm.max() / 2.\n",
    "    for i, j in itertools.product(range(cm.shape[0]), range(cm.shape[1])):\n",
    "        plt.text(j, i, format(cm[i, j], fmt),\n",
    "                 horizontalalignment=\"center\",\n",
    "                 color=\"white\" if cm[i, j] > thresh else \"black\")\n",
    "\n",
    "    plt.tight_layout()\n",
    "    plt.ylabel('True label',fontsize=15)\n",
    "    plt.xlabel('Predicted label',fontsize=15)\n",
    "\n"
   ]
  },
  {
   "cell_type": "code",
   "execution_count": 24,
   "metadata": {},
   "outputs": [
    {
     "name": "stdout",
     "output_type": "stream",
     "text": [
      "Accuracy:  80.77\n",
      "Precision:  [96.60056657 95.9446093  53.5942492  89.95633188 55.67044696 97.89540816]\n",
      "Recall:  [97.18176061 92.26379201 65.06140918 82.57786001 51.48056755 96.35907094]\n"
     ]
    },
    {
     "data": {
      "image/png": "[encoded data removed]",
      "text/plain": [
       "<Figure size 576x432 with 2 Axes>"
      ]
     },
     "metadata": {
      "needs_background": "light"
     },
     "output_type": "display_data"
    }
   ],
   "source": [
    "#LINEAR SVM\n",
    "\n",
    "print(\"Accuracy: \", round(accuracy_score(y_test, y_pred_class_linear)*100,2))\n",
    "p=precision_score(y_test, y_pred_class_linear, average=None)\n",
    "print(\"Precision: \", p*100)\n",
    "r=recall_score(y_test, y_pred_class_linear, average=None)\n",
    "print(\"Recall: \", r*100)\n",
    "    \n",
    "# print the confusion matrix\n",
    "cnf_matrix = confusion_matrix(y_test, y_pred_class_linear)\n",
    "plt.figure(figsize=(8,6))\n",
    "plot_confusion_matrix(cnf_matrix, classes=['ethnicity','religion','other_cb','gender','not_cb','age'],normalize=False,\n",
    "                      title='Confusion matrix with all features')"
   ]
  },
  {
   "cell_type": "code",
   "execution_count": 25,
   "metadata": {},
   "outputs": [
    {
     "name": "stdout",
     "output_type": "stream",
     "text": [
      "Accuracy:  81.78\n",
      "Precision:  [97.70152153 93.5556268  54.23976608 93.71345029 64.55073759 98.45559846]\n",
      "Recall:  [95.56681444 92.51743817 83.93665158 79.06259636 44.54040716 96.04519774]\n"
     ]
    },
    {
     "data": {
      "image/png": "[encoded data removed]",
      "text/plain": [
       "<Figure size 576x432 with 2 Axes>"
      ]
     },
     "metadata": {
      "needs_background": "light"
     },
     "output_type": "display_data"
    }
   ],
   "source": [
    "#RBF KERNEL SVM\n",
    "\n",
    "print(\"Accuracy: \", round(accuracy_score(y_test, y_pred_class_RBF)*100,2))\n",
    "p=precision_score(y_test, y_pred_class_RBF, average=None)\n",
    "print(\"Precision: \", p*100)\n",
    "r=recall_score(y_test, y_pred_class_RBF, average=None)\n",
    "print(\"Recall: \", r*100)\n",
    "    \n",
    "# print the confusion matrix\n",
    "cnf_matrix = confusion_matrix(y_test, y_pred_class_RBF)\n",
    "plt.figure(figsize=(8,6))\n",
    "plot_confusion_matrix(cnf_matrix, classes=['ethnicity','religion','other_cb','gender','not_cb','age'],normalize=False,\n",
    "                      title='Confusion matrix with all features')"
   ]
  },
  {
   "cell_type": "code",
   "execution_count": 26,
   "metadata": {},
   "outputs": [
    {
     "name": "stdout",
     "output_type": "stream",
     "text": [
      "Accuracy:  57.98\n",
      "Precision:  [98.59601449 98.82075472 27.72667543 98.88235294 50.52410901 99.42154736]\n",
      "Recall:  [68.93603547 39.85415346 95.47511312 51.83472094  7.43368291 86.31512869]\n"
     ]
    },
    {
     "data": {
      "image/png": "[encoded data removed]",
      "text/plain": [
       "<Figure size 576x432 with 2 Axes>"
      ]
     },
     "metadata": {
      "needs_background": "light"
     },
     "output_type": "display_data"
    }
   ],
   "source": [
    "#POLYNOMIAL KERNEL SVM\n",
    "\n",
    "print(\"Accuracy: \", round(accuracy_score(y_test, y_pred_class_Polynomial)*100,2))\n",
    "p=precision_score(y_test, y_pred_class_Polynomial, average=None)\n",
    "print(\"Precision: \", p*100)\n",
    "r=recall_score(y_test, y_pred_class_Polynomial, average=None)\n",
    "print(\"Recall: \", r*100)\n",
    "    \n",
    "# print the confusion matrix\n",
    "cnf_matrix = confusion_matrix(y_test, y_pred_class_Polynomial)\n",
    "plt.figure(figsize=(8,6))\n",
    "plot_confusion_matrix(cnf_matrix, classes=['ethnicity','religion','other_cb','gender','not_cb','age'],normalize=False,\n",
    "                      title='Confusion matrix with all features')"
   ]
  },
  {
   "cell_type": "code",
   "execution_count": 27,
   "metadata": {},
   "outputs": [
    {
     "name": "stdout",
     "output_type": "stream",
     "text": [
      "Accuracy:  82.46\n",
      "Precision:  [96.97741012 96.07131066 54.75700165 94.35483871 66.80478821 98.09463322]\n",
      "Recall:  [96.51678277 92.26379201 85.94053006 79.37095282 44.75632326 96.95543001]\n"
     ]
    },
    {
     "data": {
      "image/png": "[encoded data removed]",
      "text/plain": [
       "<Figure size 576x432 with 2 Axes>"
      ]
     },
     "metadata": {
      "needs_background": "light"
     },
     "output_type": "display_data"
    }
   ],
   "source": [
    "#SIGMOID SVM\n",
    "\n",
    "print(\"Accuracy: \", round(accuracy_score(y_test, y_pred_class_sigmoid)*100,2))\n",
    "p=precision_score(y_test, y_pred_class_sigmoid, average=None)\n",
    "print(\"Precision: \", p*100)\n",
    "r=recall_score(y_test, y_pred_class_sigmoid, average=None)\n",
    "print(\"Recall: \", r*100)\n",
    "    \n",
    "# print the confusion matrix\n",
    "cnf_matrix = confusion_matrix(y_test, y_pred_class_sigmoid)\n",
    "plt.figure(figsize=(8,6))\n",
    "plot_confusion_matrix(cnf_matrix, classes=['ethnicity','religion','other_cb','gender','not_cb','age'],normalize=False,\n",
    "                      title='Confusion matrix with all features')"
   ]
  },
  {
   "cell_type": "code",
   "execution_count": 28,
   "metadata": {
    "colab": {
     "base_uri": "https://localhost:8080/"
    },
    "id": "O51x8taq9-un",
    "outputId": "f8754636-c9d3-4441-a43a-3ffa7ead1ded"
   },
   "outputs": [
    {
     "name": "stdout",
     "output_type": "stream",
     "text": [
      "She was bullied at school  is  ' age '  type of bullying\n",
      "Everyone deserves to be loved  is  ' not_cb '  type of bullying\n"
     ]
    }
   ],
   "source": [
    "\n",
    "t1_check = \"She was bullied at school\"\n",
    "t2_check = \"Everyone deserves to be loved\"\n",
    "clean(t1_check)\n",
    "t1=[t1_check]\n",
    "t1 = vect.transform(t1)\n",
    "y_ch = LinearClassifier.predict(t1)\n",
    "\n",
    "labels = ['ethnicity','religion','other_cb','gender','not_cb','age']\n",
    "print(t1_check, \" is \", \"\\'\",labels[y_ch[0]-1], \"\\'\",\" type of bullying\")\n",
    "\n",
    "clean(t2_check)\n",
    "t2=[t2_check]\n",
    "t2 = vect.transform(t2)\n",
    "y_ch = LinearClassifier.predict(t2)\n",
    "print(t2_check, \" is \",\"\\'\",labels[y_ch[0]-1],\"\\'\", \" type of bullying\")"
   ]
  },
  {
   "cell_type": "code",
   "execution_count": 29,
   "metadata": {},
   "outputs": [
    {
     "name": "stdout",
     "output_type": "stream",
     "text": [
      "She was bullied at school  is  ' age '  type of bullying\n",
      "Everyone deserves to be loved  is  ' other_cb '  type of bullying\n"
     ]
    }
   ],
   "source": [
    "\n",
    "t1_check = \"She was bullied at school\"\n",
    "t2_check = \"Everyone deserves to be loved\"\n",
    "clean(t1_check)\n",
    "t1=[t1_check]\n",
    "t1 = vect.transform(t1)\n",
    "y_ch = RBFClassifier.predict(t1)\n",
    "\n",
    "labels = ['ethnicity','religion','other_cb','gender','not_cb','age']\n",
    "print(t1_check, \" is \", \"\\'\",labels[y_ch[0]-1], \"\\'\",\" type of bullying\")\n",
    "\n",
    "clean(t2_check)\n",
    "t2=[t2_check]\n",
    "t2 = vect.transform(t2)\n",
    "y_ch = RBFClassifier.predict(t2)\n",
    "print(t2_check, \" is \",\"\\'\",labels[y_ch[0]-1],\"\\'\", \" type of bullying\")"
   ]
  },
  {
   "cell_type": "code",
   "execution_count": 30,
   "metadata": {},
   "outputs": [
    {
     "name": "stdout",
     "output_type": "stream",
     "text": [
      "She was bullied at school  is  ' other_cb '  type of bullying\n",
      "Everyone deserves to be loved  is  ' other_cb '  type of bullying\n"
     ]
    }
   ],
   "source": [
    "\n",
    "t1_check = \"She was bullied at school\"\n",
    "t2_check = \"Everyone deserves to be loved\"\n",
    "clean(t1_check)\n",
    "t1=[t1_check]\n",
    "t1 = vect.transform(t1)\n",
    "y_ch = PolynomialClassifier.predict(t1)\n",
    "\n",
    "labels = ['ethnicity','religion','other_cb','gender','not_cb','age']\n",
    "print(t1_check, \" is \", \"\\'\",labels[y_ch[0]-1], \"\\'\",\" type of bullying\")\n",
    "\n",
    "clean(t2_check)\n",
    "t2=[t2_check]\n",
    "t2 = vect.transform(t2)\n",
    "y_ch = PolynomialClassifier.predict(t2)\n",
    "print(t2_check, \" is \",\"\\'\",labels[y_ch[0]-1],\"\\'\", \" type of bullying\")"
   ]
  },
  {
   "cell_type": "code",
   "execution_count": 31,
   "metadata": {},
   "outputs": [
    {
     "name": "stdout",
     "output_type": "stream",
     "text": [
      "She was bullied at school  is  ' age '  type of bullying\n",
      "Everyone deserves to be loved  is  ' other_cb '  type of bullying\n"
     ]
    }
   ],
   "source": [
    "\n",
    "t1_check = \"She was bullied at school\"\n",
    "t2_check = \"Everyone deserves to be loved\"\n",
    "clean(t1_check)\n",
    "t1=[t1_check]\n",
    "t1 = vect.transform(t1)\n",
    "y_ch = SigmoidClassifier.predict(t1)\n",
    "\n",
    "labels = ['ethnicity','religion','other_cb','gender','not_cb','age']\n",
    "print(t1_check, \" is \", \"\\'\",labels[y_ch[0]-1], \"\\'\",\" type of bullying\")\n",
    "\n",
    "clean(t2_check)\n",
    "t2=[t2_check]\n",
    "t2 = vect.transform(t2)\n",
    "y_ch = SigmoidClassifier.predict(t2)\n",
    "print(t2_check, \" is \",\"\\'\",labels[y_ch[0]-1],\"\\'\", \" type of bullying\")"
   ]
  },
  {
   "cell_type": "code",
   "execution_count": null,
   "metadata": {},
   "outputs": [],
   "source": []
  }
 ],
 "metadata": {
  "colab": {
   "name": "Navie Bayes.ipynb",
   "provenance": []
  },
  "kernelspec": {
   "display_name": "Python 3 (ipykernel)",
   "language": "python",
   "name": "python3"
  },
  "language_info": {
   "codemirror_mode": {
    "name": "ipython",
    "version": 3
   },
   "file_extension": ".py",
   "mimetype": "text/x-python",
   "name": "python",
   "nbconvert_exporter": "python",
   "pygments_lexer": "ipython3",
   "version": "3.9.7"
  }
 },
 "nbformat": 4,
 "nbformat_minor": 1
}
